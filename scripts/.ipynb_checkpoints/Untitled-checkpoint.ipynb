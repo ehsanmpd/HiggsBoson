{
 "cells": [
  {
   "cell_type": "code",
   "execution_count": 203,
   "metadata": {},
   "outputs": [],
   "source": [
    "# Useful starting lines\n",
    "%matplotlib inline\n",
    "import numpy as np\n",
    "from proj1_helpers import *"
   ]
  },
  {
   "cell_type": "code",
   "execution_count": 383,
   "metadata": {},
   "outputs": [],
   "source": [
    "def penalized_logistic_regression(y, tx, w, gamma, lambda_):\n",
    "    \"\"\"return the loss and gradient.\"\"\"\n",
    "    num_samples = y.shape[0]\n",
    "    loss = reg_calculate_loss(y, tx, w, lambda_)\n",
    "    gradient = reg_calculate_gradient(y, tx, w, lambda_) \n",
    "    w_new = w - gamma * gradient\n",
    "    return w_new, loss\n",
    "\n",
    "def reg_calculate_loss(y, tx, w, lambda_):\n",
    "    \"\"\"compute the cost by negative log likelihood.\"\"\"\n",
    "    pred = sigmoid(tx.dot(w))\n",
    "    pred = np.clip(pred, 1e-10, 1-1e-10)\n",
    "    loss = y.T.dot(np.log(pred)) + (1 - y).T.dot(np.log(1 - pred)) \n",
    "    return np.squeeze(- loss) + lambda_ * np.squeeze(w.T.dot(w))### Normalize shode\n",
    "\n",
    "def reg_calculate_gradient(y, tx, w, lambda_):\n",
    "    \"\"\"compute the gradient of loss.\"\"\"\n",
    "    pred = sigmoid(tx.dot(w))\n",
    "    grad = tx.T.dot(pred - y)\n",
    "    return grad + 2 * lambda_ * w\n",
    "\n",
    "def sigmoid(t):\n",
    "    \"\"\"apply sigmoid function on t.\"\"\"\n",
    "    return 1.0 / (1 + np.exp(-t))"
   ]
  },
  {
   "cell_type": "code",
   "execution_count": 239,
   "metadata": {},
   "outputs": [
    {
     "data": {
      "text/plain": [
       "0.9999999999999993"
      ]
     },
     "execution_count": 239,
     "metadata": {},
     "output_type": "execute_result"
    }
   ],
   "source": [
    "sigmoid(35)"
   ]
  },
  {
   "cell_type": "code",
   "execution_count": 241,
   "metadata": {},
   "outputs": [
    {
     "data": {
      "text/plain": [
       "1e-10"
      ]
     },
     "execution_count": 241,
     "metadata": {},
     "output_type": "execute_result"
    }
   ],
   "source": [
    "np.clip(0.0, 1e-10, 1-1e-10)"
   ]
  },
  {
   "cell_type": "code",
   "execution_count": 232,
   "metadata": {},
   "outputs": [],
   "source": [
    "def reg_logistic_regression(y, tx, lambda_, initial_w, max_iters, gamma):\n",
    "    \n",
    "    \"\"\" Implementation of regularized logistic regression using gradient descent or SGD \"\"\"\n",
    "    \"\"\"\n",
    "    Inputs\n",
    "    ----------\n",
    "        y: ndarray\n",
    "            1D array of the correct labels. \n",
    "        tx: ndarray\n",
    "            2D array of the training data.\n",
    "        lambda_: float\n",
    "            Regularization parameter.\n",
    "        initial_w: ndarray\n",
    "            1D array of the initial weight vector.\n",
    "        max_iters: int\n",
    "            Maximum number of iterations to run the gradient descent.\n",
    "        gamma: float\n",
    "            Learning rate.\n",
    "         \n",
    "    Outputs\n",
    "    -------\n",
    "        w: ndarray\n",
    "            1D array of the last weight vector.\n",
    "        loss: float\n",
    "            Loss corresponding to the last weight vector.\n",
    "    \"\"\"\n",
    "    # transform row vector to column vector\n",
    "    if (len(y.shape) == 1): \n",
    "        y.shape = (-1, 1)\n",
    "    if (len(initial_w.shape) == 1): \n",
    "        initial_w.shape = (-1, 1)\n",
    "    # Define variables to store w, current loss, and previous loss\n",
    "    w = initial_w\n",
    "    curr_loss = -1\n",
    "    prev_loss = -1\n",
    "    # Define threshold for early stopping of gradient descent\n",
    "    threshold = 1e-8\n",
    "    \n",
    "    for iter_ in range(max_iters):\n",
    "        # update w and calculate loss\n",
    "        w, curr_loss= penalized_logistic_regression(y, tx, w, gamma, lambda_)\n",
    "        # if the last two losses defference is below than the threshold, stop the gradient descent \n",
    "        if prev_loss != -1 and np.abs(curr_loss-prev_loss) < threshold:\n",
    "            break\n",
    "        prev_loss = curr_loss\n",
    "    \n",
    "    # return w in column vector form and the corresponding loss\n",
    "    return w, curr_loss\n",
    "\n"
   ]
  },
  {
   "cell_type": "code",
   "execution_count": 467,
   "metadata": {},
   "outputs": [
    {
     "name": "stdout",
     "output_type": "stream",
     "text": [
      "[[ 1  2  3]\n",
      " [ 4  5  6]\n",
      " [ 7  8  9]\n",
      " [10 11 12]\n",
      " [13 14 15]\n",
      " [16 17 18]] (6, 3)\n",
      "y= [[15 16]\n",
      " [14 11]\n",
      " [13 12]]\n"
     ]
    }
   ],
   "source": [
    "def build_k_indices(y, k_fold):\n",
    "    \"\"\"\n",
    "        Build k-indices for the Cross-Validation\n",
    "    \"\"\"\n",
    "    \n",
    "    number_of_row = int(y.shape[0] / k_fold)\n",
    "    indices = np.random.permutation(y.shape[0])\n",
    "    k_indices = [indices[k * number_of_row: (k + 1) * number_of_row] for k in range(k_fold)]\n",
    "    return np.array(k_indices)\n",
    "\n",
    "\n",
    "\n",
    "\n",
    "\n",
    "y = np.array([11,12,13,14,15,16])\n",
    "tx = np.array([[1,2,3],[4,5,6],[7,8,9],[10,11,12],[13,14,15],[16,17,18]])\n",
    "#print (y,y.shape[0])\n",
    "print (tx, tx.shape)\n",
    "k_indices = build_k_indices(y, 3)\n",
    "print (\"y=\",y[k_indices])\n",
    "#print (y[k_indices].shape)\n",
    "#print (len(tx[k_indices]))\n",
    "#print(np.delete(tx[k_indices],0,axis=0))"
   ]
  },
  {
   "cell_type": "code",
   "execution_count": 195,
   "metadata": {},
   "outputs": [
    {
     "data": {
      "text/plain": [
       "array([4, 1])"
      ]
     },
     "execution_count": 195,
     "metadata": {},
     "output_type": "execute_result"
    }
   ],
   "source": [
    "indices = np.random.permutation(y.shape[0])\n",
    "indices[0:2]"
   ]
  },
  {
   "cell_type": "code",
   "execution_count": 196,
   "metadata": {},
   "outputs": [
    {
     "name": "stdout",
     "output_type": "stream",
     "text": [
      "[14 12 13 15]\n",
      "[11 16]\n",
      "subtest= (2,)\n",
      "subtrain= (4, 3)\n",
      "[11 16 13 15]\n",
      "[14 12]\n",
      "subtest= (2,)\n",
      "subtrain= (4, 3)\n",
      "[11 16 14 12]\n",
      "[13 15]\n",
      "subtest= (2,)\n",
      "subtrain= (4, 3)\n"
     ]
    }
   ],
   "source": [
    "for i in range(3):\n",
    "    y_subtrain  = np.delete(y[k_indices],i,axis = 0)\n",
    "    tx_subtrain = np.delete(tx[k_indices],i,axis = 0)\n",
    "    y_subtest   = y[k_indices][i]\n",
    "    tx_subtest  = tx[k_indices][i]\n",
    "    tx_subtrain = tx_subtrain.reshape((-1,3))\n",
    "    y_subtrain = y_subtrain.reshape((-1,))\n",
    "    print (y_subtrain)\n",
    "    print (y_subtest)\n",
    "    print (\"subtest=\",y_subtest.shape)\n",
    "    print (\"subtrain=\",tx_subtrain.shape)\n",
    "#    print (\"%i\" %i, tx_subtest.shape,y_subtest.shape)"
   ]
  },
  {
   "cell_type": "code",
   "execution_count": 177,
   "metadata": {},
   "outputs": [
    {
     "data": {
      "text/plain": [
       "array([[ 4,  5,  6],\n",
       "       [10, 11, 12],\n",
       "       [13, 14, 15],\n",
       "       [ 1,  2,  3]])"
      ]
     },
     "execution_count": 177,
     "metadata": {},
     "output_type": "execute_result"
    }
   ],
   "source": [
    "tx_subtrain.reshape((-1,3))"
   ]
  },
  {
   "cell_type": "code",
   "execution_count": 180,
   "metadata": {},
   "outputs": [
    {
     "data": {
      "text/plain": [
       "(4,)"
      ]
     },
     "execution_count": 180,
     "metadata": {},
     "output_type": "execute_result"
    }
   ],
   "source": [
    "y_subtrain.reshape((-1,))"
   ]
  },
  {
   "cell_type": "code",
   "execution_count": 148,
   "metadata": {},
   "outputs": [
    {
     "name": "stdout",
     "output_type": "stream",
     "text": [
      "Aloo 3\n",
      "0\n",
      "1\n",
      "2\n"
     ]
    }
   ],
   "source": [
    " i = 2\n",
    "    \n",
    "print (\"Aloo %i\" %3)\n",
    "\n",
    "a = range(3)\n",
    "\n",
    "for j in a: \n",
    "    print (j)"
   ]
  },
  {
   "cell_type": "code",
   "execution_count": 301,
   "metadata": {},
   "outputs": [],
   "source": [
    "TRAINING_DATA = ['Trainset_jet_0_without_mass.csv', 'Trainset_jet_0_with_mass.csv',\n",
    "             'Trainset_jet_1_without_mass.csv', 'Trainset_jet_1_with_mass.csv',\n",
    "             'Trainset_jet_2_without_mass.csv', 'Trainset_jet_2_with_mass.csv',\n",
    "             'Trainset_jet_3_without_mass.csv', 'Trainset_jet_3_with_mass.csv']\n",
    "TESTING_DATA = ['Testset_jet_0_without_mass.csv', 'Testset_jet_0_with_mass.csv',\n",
    "            'Testset_jet_1_without_mass.csv', 'Testset_jet_1_with_mass.csv',\n",
    "            'Testset_jet_2_without_mass.csv', 'Testset_jet_2_with_mass.csv',\n",
    "            'Testset_jet_3_without_mass.csv', 'Testset_jet_3_with_mass.csv']"
   ]
  },
  {
   "cell_type": "code",
   "execution_count": 466,
   "metadata": {},
   "outputs": [],
   "source": [
    "def opt_hyperparameters(TRAINING_DATA, k_fold):\n",
    "    \"\"\"\n",
    "    call all the training datasets and do the cross validation for each of them -------> \n",
    "    Return the best lambda for each data sets.\n",
    "    \n",
    "    \"\"\"\n",
    "    \n",
    "    lambdas_star = []    \n",
    "    \n",
    "    for idx, data in enumerate(TRAINING_DATA):\n",
    "        \n",
    "        y_train, tx_train, ids_train = load_csv_data(data)\n",
    "        \n",
    "        tx_train = standardize(tx_train)   ### Standardize the data set\n",
    "        \n",
    "        print(\"Cross-validation for file %s ...\" % data)\n",
    "        \n",
    "        lambdas = np.logspace(-10, 0, 10) # Define the lambdas values\n",
    "        \n",
    "        opt_lambda = cross_validation(y_train, tx_train, k_fold, lambdas)\n",
    "        \n",
    "        print(\"opt lambda for %s is :\" %data, opt_lambda)\n",
    "        \n",
    "        lambdas_star.append(opt_lambda)\n",
    "    \n",
    "    return lambdas_star\n",
    "\n",
    "#-----------------\n",
    "\n",
    "def cross_validation(y, tx, k_fold, lambdas):\n",
    "\n",
    "    print(\"  Start the %i-fold Cross Validation!...\" % k_fold)\n",
    "\n",
    "    # Spliting datasets into the k-fold subsets\n",
    "    # It shuffels them as well:\n",
    "    \n",
    "    ## Making the shuffel and splitted indices\n",
    "    \n",
    "    k_indices = build_k_indices(y, k_fold)\n",
    "    \n",
    "    max_iters = 100\n",
    "    gamma = 0.1\n",
    "    least_loss = np.inf\n",
    "    \n",
    "    for lamb in lambdas:\n",
    "        loss_folds = 0\n",
    "        for i in range(k_fold):\n",
    "            \n",
    "            #### Here we make the the sub data sets. They have been splitted and shuffeled. \n",
    "        \n",
    "            y_subtrain  = np.delete(y[k_indices],i,axis = 0)\n",
    "            tx_subtrain = np.delete(tx[k_indices],i,axis = 0)\n",
    "            \n",
    "            y_subtest   = y[k_indices[i]]\n",
    "            tx_subtest  = tx[k_indices][i]\n",
    "            \n",
    "            #### Reshape tx and y into the correct form:\n",
    "            \n",
    "            y_subtrain = y_subtrain.reshape((-1,))\n",
    "            tx_subtrain = tx_subtrain.reshape((-1,tx.shape[1]))\n",
    "            \n",
    "            initial_w = np.zeros(tx_subtrain.shape[1])\n",
    "        \n",
    "            if (len(y_subtrain.shape) == 1): \n",
    "                y_subtrain.shape = (-1, 1)\n",
    "            if (len(y_subtest.shape) == 1): \n",
    "                y_subtest.shape = (-1, 1)\n",
    "            if (len(initial_w.shape) == 1): \n",
    "                initial_w.shape = (-1, 1)\n",
    "                \n",
    "            ## Finding the best w for each sub train data and lambda value\n",
    "\n",
    "            w, loss_train =reg_logistic_regression(y_subtrain, tx_subtrain, lamb, initial_w, max_iters, gamma)\n",
    "            \n",
    "            ## Finding the loss base on the w obtained at the previous step for each sub test data and lambda value\n",
    "            \n",
    "            loss_validation = reg_calculate_loss(y_subtest, tx_subtest, w, lamb)\n",
    "            \n",
    "            loss_folds += loss_validation\n",
    "            \n",
    "        if loss_folds/k_fold < least_loss:\n",
    "            \n",
    "            least_loss = loss_folds/k_fold\n",
    "            lambda_star = -lamb\n",
    "            \n",
    "    return lambda_star\n",
    "#--------------------------\n",
    "\n",
    "####------- IMPORTANT : Since we want to do regularized logestic regression, labels should be 0 and 1. \n",
    "\n",
    "def load_csv_data(data_path, sub_sample=False): ### Becareful about the data_path ... \n",
    "    \n",
    "    y = np.genfromtxt(data_path, delimiter=\",\", skip_header=1, dtype=str, usecols=1)\n",
    "    x = np.genfromtxt(data_path, delimiter=\",\", skip_header=1)\n",
    "    ids = x[:, 0].astype(np.int)\n",
    "    input_data = x[:, 2:]\n",
    "\n",
    "    # convert class labels from strings to binary (-1,1)\n",
    "    yb = np.ones(len(y))\n",
    "    yb[np.where(y=='b')] = 0 # Important point should be considered. \n",
    "    \n",
    "    # sub-sample\n",
    "    if sub_sample:\n",
    "        yb = yb[::50]\n",
    "        input_data = input_data[::50]\n",
    "        ids = ids[::50]\n",
    "\n",
    "    return yb, input_data, ids\n",
    "\n",
    "#-------------------------\n",
    "\n",
    "def standardize(x):\n",
    "\n",
    "    std_data = (x - np.mean(x, axis=0)) / np.std(x, axis=0)\n",
    "\n",
    "    return std_data\n",
    "\n",
    "#-------------------------\n",
    "\n",
    "def reg_logistic_regression(y, tx, lambda_, initial_w, max_iters, gamma):\n",
    "    \n",
    "    w = initial_w  #### Store the w values\n",
    "    loss = -1 \n",
    "    prev_loss = -1\n",
    "    threshold = 1e-8\n",
    "    \n",
    "    for iter_ in range(max_iters):\n",
    "        \n",
    "        w, loss= penalized_logistic_regression(y, tx, w, gamma, lambda_)\n",
    "        \n",
    "        # Stop the gradient descent if the last two losses defference is below than the threshold:\n",
    "        \n",
    "        if prev_loss != -1 and np.abs(loss - prev_loss) < threshold:\n",
    "            break\n",
    "        prev_loss = loss\n",
    "    \n",
    "    return w, loss # return w and the corresponding loss\n",
    "\n",
    "#------------------------\n",
    "\n",
    "def penalized_logistic_regression(y, tx, w, gamma, lambda_):\n",
    "    \n",
    "    loss = reg_calculate_loss(y, tx, w, lambda_)\n",
    "    gradient = reg_calculate_gradient(y, tx, w, lambda_) \n",
    "    \n",
    "    w_new = w - gamma * gradient\n",
    "    \n",
    "    return w_new, loss\n",
    "\n",
    "# ------------------------\n",
    "\n",
    "def reg_calculate_loss(y, tx, w, lambda_):\n",
    "    \n",
    "    \"\"\"compute the cost by negative log likelihood.\"\"\"\n",
    "    \n",
    "    pred = sigmoid(tx.dot(w))\n",
    "    pred = np.clip(pred, 1e-10, 1-1e-10) ### IMPORTANT : It prevents that Pred becommes equal to 1 or zero.   \n",
    "    loss = y.T.dot(np.log(pred)) + (1 - y).T.dot(np.log(1 - pred))\n",
    "    \n",
    "    return np.squeeze(- loss)/len(y) + lambda_ * np.squeeze(w.T.dot(w))  ### IMPORTANT : NORMALIZATION\n",
    "\n",
    "# --------------------------\n",
    "\n",
    "def reg_calculate_gradient(y, tx, w, lambda_):\n",
    "\n",
    "    pred = sigmoid(tx.dot(w))\n",
    "    grad = tx.T.dot(pred - y)\n",
    "    \n",
    "    return grad /len(y) + 2 * lambda_ * w   ### IMPORTANT : NORMALIZATION\n",
    "\n",
    "# --------------------------\n",
    "\n",
    "def sigmoid(t):\n",
    "\n",
    "    return 1.0 / (1 + np.exp(-t))"
   ]
  },
  {
   "cell_type": "code",
   "execution_count": 469,
   "metadata": {},
   "outputs": [
    {
     "name": "stdout",
     "output_type": "stream",
     "text": [
      "Cross-validation for file Trainset_jet_0_without_mass.csv ...\n",
      "  Start the 10-fold Cross Validation!...\n",
      "opt lambda for Trainset_jet_0_without_mass.csv is : 1e-10\n",
      "Cross-validation for file Trainset_jet_0_with_mass.csv ...\n",
      "  Start the 10-fold Cross Validation!...\n",
      "opt lambda for Trainset_jet_0_with_mass.csv is : 1e-10\n",
      "Cross-validation for file Trainset_jet_1_without_mass.csv ...\n",
      "  Start the 10-fold Cross Validation!...\n",
      "opt lambda for Trainset_jet_1_without_mass.csv is : 1e-10\n",
      "Cross-validation for file Trainset_jet_1_with_mass.csv ...\n",
      "  Start the 10-fold Cross Validation!...\n",
      "opt lambda for Trainset_jet_1_with_mass.csv is : 1e-10\n",
      "Cross-validation for file Trainset_jet_2_without_mass.csv ...\n",
      "  Start the 10-fold Cross Validation!...\n",
      "opt lambda for Trainset_jet_2_without_mass.csv is : 1e-10\n",
      "Cross-validation for file Trainset_jet_2_with_mass.csv ...\n",
      "  Start the 10-fold Cross Validation!...\n",
      "opt lambda for Trainset_jet_2_with_mass.csv is : 1e-10\n",
      "Cross-validation for file Trainset_jet_3_without_mass.csv ...\n",
      "  Start the 10-fold Cross Validation!...\n",
      "opt lambda for Trainset_jet_3_without_mass.csv is : 1e-10\n",
      "Cross-validation for file Trainset_jet_3_with_mass.csv ...\n",
      "  Start the 10-fold Cross Validation!...\n",
      "opt lambda for Trainset_jet_3_with_mass.csv is : 1e-10\n"
     ]
    }
   ],
   "source": [
    "lambda_star = opt_hyperparameters(TRAINING_DATA, 10)"
   ]
  },
  {
   "cell_type": "code",
   "execution_count": 456,
   "metadata": {},
   "outputs": [],
   "source": [
    "def training_dataset(TRAINING_DATA, lambda_star):\n",
    "\n",
    "    weights = []\n",
    "    total = 0\n",
    "    mean = 0\n",
    "    \n",
    "    for idx, data in enumerate(TRAINING_DATA):\n",
    "\n",
    "        print(u'Training with file {0:s}'.format(data))\n",
    "        \n",
    "        y_train, tx_train, ids_train = load_csv_data(data) ####------- IMPORTANT : Since we want to do regularized logestic regression, labels should be 0 and 1. \n",
    "\n",
    "        tx_train = standardize(tx_train)\n",
    "        \n",
    "        max_iters = 100\n",
    "        gamma = 0.01\n",
    "        initial_w = np.zeros(tx_train.shape[1])\n",
    "        \n",
    "                \n",
    "        w_star, loss_RR = reg_logistic_regression(y_train, tx_train, lambda_star[idx], initial_w, max_iters, gamma)\n",
    "        \n",
    "        # Getting the percentage of correct predictions:\n",
    "        \n",
    "        Acc = percentage_of_correct_prediction(y_train, tx_train, w_star)\n",
    "        \n",
    "        print(u'  The accuracy of prediction is equal to {0:f}'.format(100. * Acc))\n",
    "        \n",
    "        weights.append(w_star)\n",
    "\n",
    "    return weights\n",
    "\n",
    "\n",
    "def percentage_of_correct_prediction(y, tx, w_star):\n",
    "    \"\"\"\n",
    "        Return the percentage of correct predictions (between 0 and 1)\n",
    "    \"\"\"\n",
    "\n",
    "    pred = np.dot(tx, w_star)\n",
    "\n",
    "    pred[pred > 0.5] = 1\n",
    "    pred[pred <= 0.5] = 0\n",
    "\n",
    "    right = np.sum(pred == y)\n",
    "    wrong = len(pred) - right\n",
    "\n",
    "    return 1-(float(wrong) / float(len(pred)))"
   ]
  },
  {
   "cell_type": "code",
   "execution_count": 457,
   "metadata": {},
   "outputs": [
    {
     "name": "stdout",
     "output_type": "stream",
     "text": [
      "Training with file Trainset_jet_0_without_mass.csv\n",
      "  The accuracy of prediction is equal to 90.445202\n",
      "Training with file Trainset_jet_0_with_mass.csv\n",
      "  The accuracy of prediction is equal to 77.773110\n",
      "Training with file Trainset_jet_1_without_mass.csv\n",
      "  The accuracy of prediction is equal to 86.696641\n",
      "Training with file Trainset_jet_1_with_mass.csv\n",
      "  The accuracy of prediction is equal to 69.717927\n",
      "Training with file Trainset_jet_2_without_mass.csv\n",
      "  The accuracy of prediction is equal to 87.669377\n",
      "Training with file Trainset_jet_2_with_mass.csv\n",
      "  The accuracy of prediction is equal to 70.291184\n",
      "Training with file Trainset_jet_3_without_mass.csv\n",
      "  The accuracy of prediction is equal to 89.708869\n",
      "Training with file Trainset_jet_3_with_mass.csv\n",
      "  The accuracy of prediction is equal to 72.035578\n"
     ]
    }
   ],
   "source": [
    "weights = training_dataset(TRAINING_DATA, lambda_star)"
   ]
  },
  {
   "cell_type": "code",
   "execution_count": 464,
   "metadata": {},
   "outputs": [],
   "source": [
    "def testing_dataset(TESTING_DATA, weights):\n",
    "\n",
    "\n",
    "    y_pred = []\n",
    "    ids_pred = []\n",
    "\n",
    "\n",
    "    for idx, data in enumerate(TESTING_DATA):\n",
    "        \n",
    "        print(\"Testing with file %s\" % data)\n",
    "\n",
    "        data_file = data\n",
    "\n",
    "        _, tx_test, ids_test = load_csv_data(data_file)\n",
    "        \n",
    "        tx_test = standardize(tx_test)\n",
    "\n",
    "        # Labelling the predictions\n",
    "        \n",
    "        y_pred.append(predict_labels(weights[idx], tx_test))\n",
    "        \n",
    "        ids_pred.append(ids_test)\n",
    "\n",
    "    # Puting all the predictions together and making the submission file. \n",
    "    \n",
    "    ids = []\n",
    "    pred = []\n",
    "\n",
    "    idx = min(ids_pred[:][0])\n",
    "\n",
    "    length = np.sum(len(i) for i in y_pred)\n",
    "\n",
    "    print(\"Concatenate the predictions.\")\n",
    "    \n",
    "    # Sortting the final data based on idx:\n",
    "\n",
    "    for i in range(length):\n",
    "        for j in range(len(TESTING_DATA)):\n",
    "            if len(ids_pred[j]) > 0:\n",
    "                if ids_pred[j][0] == idx:\n",
    "                    ids.append(idx)\n",
    "                    pred.append(y_pred[j][0])\n",
    "                    ids_pred[j] = np.delete(ids_pred[j], 0)\n",
    "                    y_pred[j] = np.delete(y_pred[j], 0)\n",
    "                    break\n",
    "\n",
    "        if i % 100000 == 0: ### it prints the steps of concatenation.\n",
    "            print(u'  {0:d}/{1:d} concatenated'.format(i, length))\n",
    "\n",
    "        idx += 1\n",
    "\n",
    "    pred = np.array(pred)\n",
    "    ids = np.array(ids)\n",
    "\n",
    "    # Writing the submission file:\n",
    "    \n",
    "    create_csv_submission(ids, pred, \"Final_Prediction.csv\")\n",
    "\n",
    "    print(u'Ready to be submitted!')\n",
    "\n",
    "###-----------------------\n",
    "\n",
    "# Since the evaluation will be based on -1 and 1, now we will predict based on that\n",
    "\n",
    "def predict_labels(weights, data):\n",
    "    \n",
    "    \"\"\"Generates class predictions given weights, and a test data matrix\"\"\"\n",
    "    \n",
    "    y_pred = np.dot(data, weights)\n",
    "    y_pred[np.where(y_pred <= 0.5)] = -1\n",
    "    y_pred[np.where(y_pred > 0.5)] = 1\n",
    "\n",
    "    return y_pred\n",
    "\n",
    "#### --------------------\n",
    "    \n",
    "def create_csv_submission(ids, y_pred, name):\n",
    "    \n",
    "    with open(name, 'w') as csvfile:\n",
    "        fieldnames = ['Id', 'Prediction']\n",
    "        writer = csv.DictWriter(csvfile, delimiter=\",\", fieldnames=fieldnames)\n",
    "        writer.writeheader()\n",
    "        for r1, r2 in zip(ids, y_pred):\n",
    "            writer.writerow({'Id': int(r1), 'Prediction': int(r2)})"
   ]
  },
  {
   "cell_type": "code",
   "execution_count": 465,
   "metadata": {},
   "outputs": [
    {
     "name": "stdout",
     "output_type": "stream",
     "text": [
      "Testing with file Testset_jet_0_without_mass.csv\n",
      "Testing with file Testset_jet_0_with_mass.csv\n",
      "Testing with file Testset_jet_1_without_mass.csv\n",
      "Testing with file Testset_jet_1_with_mass.csv\n",
      "Testing with file Testset_jet_2_without_mass.csv\n",
      "Testing with file Testset_jet_2_with_mass.csv\n",
      "Testing with file Testset_jet_3_without_mass.csv\n",
      "Testing with file Testset_jet_3_with_mass.csv\n"
     ]
    },
    {
     "name": "stderr",
     "output_type": "stream",
     "text": [
      "/anaconda3/lib/python3.7/site-packages/ipykernel_launcher.py:31: DeprecationWarning: Calling np.sum(generator) is deprecated, and in the future will give a different result. Use np.sum(np.fromiter(generator)) or the python sum builtin instead.\n"
     ]
    },
    {
     "name": "stdout",
     "output_type": "stream",
     "text": [
      "Concatenate the predictions.\n",
      "  0/568238 concatenated\n",
      "  100000/568238 concatenated\n",
      "  200000/568238 concatenated\n",
      "  300000/568238 concatenated\n",
      "  400000/568238 concatenated\n",
      "  500000/568238 concatenated\n",
      "Ready to be submitted!\n"
     ]
    }
   ],
   "source": [
    "testing_dataset(TESTING_DATA, weights)"
   ]
  },
  {
   "cell_type": "code",
   "execution_count": null,
   "metadata": {},
   "outputs": [],
   "source": []
  }
 ],
 "metadata": {
  "kernelspec": {
   "display_name": "Python 3",
   "language": "python",
   "name": "python3"
  },
  "language_info": {
   "codemirror_mode": {
    "name": "ipython",
    "version": 3
   },
   "file_extension": ".py",
   "mimetype": "text/x-python",
   "name": "python",
   "nbconvert_exporter": "python",
   "pygments_lexer": "ipython3",
   "version": "3.7.3"
  }
 },
 "nbformat": 4,
 "nbformat_minor": 2
}
